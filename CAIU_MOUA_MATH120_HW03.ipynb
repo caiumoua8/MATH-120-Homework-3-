{
  "cells": [
    {
      "cell_type": "markdown",
      "metadata": {
        "id": "view-in-github",
        "colab_type": "text"
      },
      "source": [
        "<a href=\"https://colab.research.google.com/github/caiumoua8/MATH-120-Homework-3-/blob/main/CAIU_MOUA_MATH120_HW03.ipynb\" target=\"_parent\"><img src=\"https://colab.research.google.com/assets/colab-badge.svg\" alt=\"Open In Colab\"/></a>"
      ]
    },
    {
      "cell_type": "markdown",
      "metadata": {
        "id": "k1MYztqwQeds"
      },
      "source": [
        "# MATH 120 - Homework 03"
      ]
    },
    {
      "cell_type": "markdown",
      "metadata": {
        "id": "F1-USoEZQedw"
      },
      "source": [
        "## Name: Caiu Moua"
      ]
    },
    {
      "cell_type": "markdown",
      "metadata": {
        "id": "kYiszZguQedx"
      },
      "source": [
        "**Instructions:** Please submit a Jupyter notebook (html or pdf) answering the following parts.\n",
        "\n",
        "This homework is due **Friday, Sept. 12 by 11:59PM**.\n",
        "\n",
        "* Make sure you have a table of contents, appropriate headings, and comments on your code\n",
        "\n",
        "* If you collaborate with someone in the class, note the name on the assignment."
      ]
    },
    {
      "cell_type": "markdown",
      "metadata": {
        "id": "og_RKoC_Qedx"
      },
      "source": [
        "Table of Contents:\n",
        "   * [Part 1](#part1)\n",
        "   * [Fermat](#fermat)"
      ]
    },
    {
      "cell_type": "markdown",
      "metadata": {
        "id": "RaTPLIO8Qedy"
      },
      "source": [
        "## Part 1 <a id='part1'></a>\n",
        "\n",
        "- Read Ch. 4 in the ThinkPython Book and provide a 100 - 200 word summary\n",
        "- Complete Exercise **4.11.1, 4.11.2, and 4.11.4**"
      ]
    },
    {
      "cell_type": "code",
      "source": [
        "from os.path import basename, exists\n",
        "\n",
        "def download(url):\n",
        "    filename = basename(url)\n",
        "    if not exists(filename):\n",
        "        from urllib.request import urlretrieve\n",
        "\n",
        "        local, _ = urlretrieve(url, filename)\n",
        "        print(\"Downloaded \" + str(local))\n",
        "    return filename\n",
        "\n",
        "download('https://github.com/AllenDowney/ThinkPython/raw/v3/thinkpython.py');\n",
        "download('https://github.com/AllenDowney/ThinkPython/raw/v3/diagram.py');\n",
        "download('https://github.com/ramalho/jupyturtle/releases/download/2024-03/jupyturtle.py');"
      ],
      "metadata": {
        "id": "YUzFhdLTpeoc"
      },
      "execution_count": null,
      "outputs": []
    },
    {
      "cell_type": "code",
      "source": [
        "import jupyturtle as jup"
      ],
      "metadata": {
        "id": "nHzNGZ9ephwb"
      },
      "execution_count": null,
      "outputs": []
    },
    {
      "cell_type": "markdown",
      "source": [
        "## Summary\n",
        "\n",
        "This chapter talks about using the jupyturtle module in Python to draw shapes and learn about functions. The turtle is like a little cursor that moves around the screen, leaving a trail as it goes. You can tell it to move forward, turn left or right, and with these commands you can make shapes like squares, polygons, and circles. At first, you repeat the same steps, but then the book shows how to use functions to make the code shorter and easier to reuse. It also explains encapsulation (putting code in a function) and generalization (making functions work for more cases by adding parameters). Later, it introduces ideas like refactoring (improving code without changing what it does), docstrings (adding explanations inside functions), and debugging using preconditions and postconditions. Overall, the chapter teaches both how to use turtle graphics and how to design functions with clear interfaces that are easy to understand and use."
      ],
      "metadata": {
        "id": "TXgSSixah06u"
      }
    },
    {
      "cell_type": "markdown",
      "source": [
        "## 4.11.1"
      ],
      "metadata": {
        "id": "JPFnU2GShbxv"
      }
    },
    {
      "cell_type": "code",
      "source": [
        "def rectangle(l,w):\n",
        "  \"\"\"\n",
        "  Draws a rectangle with length l and width w.\n",
        "  \"\"\"\n",
        "  if type(l) != int or type(w) != int:\n",
        "    raise TypeError(\"Error: Length and width must be integers.\")\n",
        "\n",
        "  jup.make_turtle()\n",
        "  for i in range(2):\n",
        "    jup.forward(l)\n",
        "    jup.left(90)\n",
        "    jup.forward(w)\n",
        "    jup.left(90)"
      ],
      "metadata": {
        "id": "O3rZLVVS7GPc"
      },
      "execution_count": null,
      "outputs": []
    },
    {
      "cell_type": "code",
      "source": [
        "rectangle(20,70)"
      ],
      "metadata": {
        "colab": {
          "base_uri": "https://localhost:8080/",
          "height": 171
        },
        "id": "_lbRFx7P943B",
        "outputId": "ea4b3861-dd14-4118-ab59-c8edcca9b61d"
      },
      "execution_count": null,
      "outputs": [
        {
          "output_type": "display_data",
          "data": {
            "text/plain": [
              "<IPython.core.display.HTML object>"
            ],
            "text/html": [
              "<svg width=\"300\" height=\"150\">\n",
              "    <rect width=\"100%\" height=\"100%\" fill=\"#F3F3F7\" />\n",
              "\n",
              "<line x1=\"150\" y1=\"75\" x2=\"170.0\" y2=\"75.0\"\n",
              "    stroke=\"#663399\" stroke-width=\"2\" />\n",
              "<line x1=\"170.0\" y1=\"75.0\" x2=\"170.0\" y2=\"5.0\"\n",
              "    stroke=\"#663399\" stroke-width=\"2\" />\n",
              "<line x1=\"170.0\" y1=\"5.0\" x2=\"150.0\" y2=\"5.0\"\n",
              "    stroke=\"#663399\" stroke-width=\"2\" />\n",
              "<line x1=\"150.0\" y1=\"5.0\" x2=\"150.0\" y2=\"75.0\"\n",
              "    stroke=\"#663399\" stroke-width=\"2\" />\n",
              "\n",
              "<g transform=\"rotate(-90.0,150.0,75.0) translate(150.0, 75.0)\">\n",
              "    <circle stroke=\"#63A375\" stroke-width=\"2\" fill=\"transparent\" r=\"5.5\" cx=\"0\" cy=\"0\"/>\n",
              "    <polygon points=\"0,12 2,9 -2,9\" style=\"fill:#63A375;stroke:#63A375;stroke-width:2\"/>\n",
              "</g>\n",
              "\n",
              "</svg>"
            ]
          },
          "metadata": {}
        }
      ]
    },
    {
      "cell_type": "markdown",
      "source": [
        "## 4.11.2"
      ],
      "metadata": {
        "id": "TSUgixOthjdO"
      }
    },
    {
      "cell_type": "code",
      "source": [
        "def rhombus(l,a):\n",
        "  \"\"\"\n",
        "  Draws a rhombus with side length l.\n",
        "  \"\"\"\n",
        "  if type(l) != int:\n",
        "    raise TypeError(\"Error: Length must be an integer.\")\n",
        "  if a == 0 or a == 180 or a == 360:\n",
        "    raise ValueError(\"Error: Angle must not be 0, 180, or 360 degrees.\")\n",
        "  if type(a) != int:\n",
        "    raise TypeError(\"Error: Angle must be an integer.\")\n",
        "\n",
        "  jup.make_turtle()\n",
        "  jup.forward(l)\n",
        "  jup.left(a)\n",
        "  jup.forward(l)\n",
        "  jup.left(abs(a-180))\n",
        "  jup.forward(l)\n",
        "  jup.left(a)\n",
        "  jup.forward(l)"
      ],
      "metadata": {
        "id": "6THToIUb8JZi"
      },
      "execution_count": null,
      "outputs": []
    },
    {
      "cell_type": "code",
      "source": [
        "rhombus(30,50)"
      ],
      "metadata": {
        "colab": {
          "base_uri": "https://localhost:8080/",
          "height": 171
        },
        "id": "keiIcUcd-zAQ",
        "outputId": "aa0cf35d-387d-4049-8d8f-8681b148a293"
      },
      "execution_count": null,
      "outputs": [
        {
          "output_type": "display_data",
          "data": {
            "text/plain": [
              "<IPython.core.display.HTML object>"
            ],
            "text/html": [
              "<svg width=\"300\" height=\"150\">\n",
              "    <rect width=\"100%\" height=\"100%\" fill=\"#F3F3F7\" />\n",
              "\n",
              "<line x1=\"150\" y1=\"75\" x2=\"180.0\" y2=\"75.0\"\n",
              "    stroke=\"#663399\" stroke-width=\"2\" />\n",
              "<line x1=\"180.0\" y1=\"75.0\" x2=\"199.3\" y2=\"52.0\"\n",
              "    stroke=\"#663399\" stroke-width=\"2\" />\n",
              "<line x1=\"199.3\" y1=\"52.0\" x2=\"169.3\" y2=\"52.0\"\n",
              "    stroke=\"#663399\" stroke-width=\"2\" />\n",
              "<line x1=\"169.3\" y1=\"52.0\" x2=\"150.0\" y2=\"75.0\"\n",
              "    stroke=\"#663399\" stroke-width=\"2\" />\n",
              "\n",
              "<g transform=\"rotate(40.0,150.0,75.0) translate(150.0, 75.0)\">\n",
              "    <circle stroke=\"#63A375\" stroke-width=\"2\" fill=\"transparent\" r=\"5.5\" cx=\"0\" cy=\"0\"/>\n",
              "    <polygon points=\"0,12 2,9 -2,9\" style=\"fill:#63A375;stroke:#63A375;stroke-width:2\"/>\n",
              "</g>\n",
              "\n",
              "</svg>"
            ]
          },
          "metadata": {}
        }
      ]
    },
    {
      "cell_type": "markdown",
      "source": [
        "## 4.11.4"
      ],
      "metadata": {
        "id": "eUgknABIiT5O"
      }
    },
    {
      "cell_type": "code",
      "source": [
        "jup.make_turtle()\n",
        "\n",
        "def triangle(n, x):\n",
        "  \"\"\"\n",
        "  Draws a triangle of variable interior angles based on the n number of slices. Side lengths will be x.\n",
        "  \"\"\"\n",
        "  for i in range(1):\n",
        "    jup.forward(x)\n",
        "    jup.left(abs((360/n) - 180))\n",
        "    jup.forward(x)\n",
        "    jup.left(abs((360/n) - 205))\n",
        "    jup.forward(x)\n",
        "    jup.left(abs((360/n) - 180))\n",
        "\n",
        "def draw_pie(n, x):\n",
        "  for _ in range(n):\n",
        "    triangle(n, x)\n",
        "    jup.left(360/n)\n",
        "\n"
      ],
      "metadata": {
        "id": "7dR1lFIvBEjz"
      },
      "execution_count": null,
      "outputs": []
    },
    {
      "cell_type": "code",
      "source": [
        "triangle(6,20)"
      ],
      "metadata": {
        "id": "rpSKpf6K3AYZ"
      },
      "execution_count": null,
      "outputs": []
    },
    {
      "cell_type": "code",
      "source": [
        "draw_pie(6,20)"
      ],
      "metadata": {
        "id": "AZUtXEVlEaPt"
      },
      "execution_count": null,
      "outputs": []
    },
    {
      "cell_type": "markdown",
      "metadata": {
        "id": "W8RvjbA2Qedy"
      },
      "source": [
        "## Fermat! <a id='fermat'></a>\n",
        "\n",
        "Fermat’s Last Theorem says that there are **no positive integers** $a, b,$ and $c$ such that\n",
        "\n",
        "$$\n",
        "a^n + b^n = c^n\n",
        "$$\n",
        "\n",
        "for any values of $n$ greater than 2.\n",
        "\n",
        "Write a function named `check_fermat` that takes four parameters, `a,b,c` and `n`, - and checks to see if Fermat's theorem holds. If $n$ is greater than 2 and\n",
        "\n",
        "$$\n",
        "a^n + b^n = c^n,\n",
        "$$\n",
        "\n",
        "the program should print, \"Holy smokes, Fermat was wrong!\" Otherwise, the program should print, \"No, that doesn't work.\"\n",
        "\n"
      ]
    },
    {
      "cell_type": "code",
      "execution_count": null,
      "metadata": {
        "id": "hFta4WfiQedz"
      },
      "outputs": [],
      "source": [
        "def check_fermat(a,b,c,n):\n",
        "  if n > 2 and (a**n) + (b**n) == (c**n):\n",
        "    print(\"Holy smokes, Fermat was wrong!\")\n",
        "  else:\n",
        "    print(\"No, that doesn't work.\")\n"
      ]
    },
    {
      "cell_type": "code",
      "source": [
        "check_fermat(3,4,5,2)"
      ],
      "metadata": {
        "colab": {
          "base_uri": "https://localhost:8080/"
        },
        "id": "DbtPX8yoEsI7",
        "outputId": "796523e7-0a2b-4db0-bb51-68ef2f13ead4"
      },
      "execution_count": null,
      "outputs": [
        {
          "output_type": "stream",
          "name": "stdout",
          "text": [
            "No, that doesn't work.\n"
          ]
        }
      ]
    },
    {
      "cell_type": "markdown",
      "source": [
        "GITHUB: https://github.com/caiumoua8/MATH-120-Homework-3-.git"
      ],
      "metadata": {
        "id": "hrn0YX6z0nC_"
      }
    }
  ],
  "metadata": {
    "kernelspec": {
      "display_name": "Python 3 (ipykernel)",
      "language": "python",
      "name": "python3"
    },
    "language_info": {
      "codemirror_mode": {
        "name": "ipython",
        "version": 3
      },
      "file_extension": ".py",
      "mimetype": "text/x-python",
      "name": "python",
      "nbconvert_exporter": "python",
      "pygments_lexer": "ipython3",
      "version": "3.9.7"
    },
    "colab": {
      "provenance": [],
      "include_colab_link": true
    }
  },
  "nbformat": 4,
  "nbformat_minor": 0
}